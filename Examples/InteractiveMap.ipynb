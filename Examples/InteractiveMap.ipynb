{
 "cells": [
  {
   "cell_type": "code",
   "execution_count": 8,
   "metadata": {},
   "outputs": [],
   "source": [
    "# !pip install geemap"
   ]
  },
  {
   "cell_type": "code",
   "execution_count": 9,
   "metadata": {},
   "outputs": [],
   "source": [
    "import geemap\n",
    "import json\n",
    "import os\n",
    "import requests\n",
    "import ee\n",
    "from geemap import geojson_to_ee, ee_to_geojson\n",
    "from ipyleaflet import GeoJSON"
   ]
  },
  {
   "cell_type": "code",
   "execution_count": 10,
   "metadata": {},
   "outputs": [
    {
     "data": {
      "application/vnd.jupyter.widget-view+json": {
       "model_id": "883a75d064e240fab2e678ab96491811",
       "version_major": 2,
       "version_minor": 0
      },
      "text/plain": [
       "Map(center=[-0.47855795607524837, 100.34645777487707], controls=(WidgetControl(options=['position', 'transpare…"
      ]
     },
     "metadata": {},
     "output_type": "display_data"
    }
   ],
   "source": [
    "Map = geemap.Map()\n",
    "Map.setCenter(100.34645777487707, -0.47855795607524837, 12)\n",
    "Map"
   ]
  },
  {
   "cell_type": "code",
   "execution_count": 11,
   "metadata": {},
   "outputs": [],
   "source": [
    "file_path = os.path.abspath('D:/shp/RTRW_js.geojson')\n",
    "\n",
    "if not os.path.exists(file_path):\n",
    "    url = 'https://github.com/fiopiohoho/SUSU-MORNING.github.io/blob/main/shp/RTRW_js.geojson'\n",
    "    r = requests.get(url)\n",
    "    with open(file_path, 'w') as f:\n",
    "        f.write(r.content.decode(\"utf-8\"))\n",
    "\n",
    "with open(file_path) as f:\n",
    "    json_data = json.load(f)\n",
    "\n",
    "# display json layer\n",
    "json_layer = GeoJSON(\n",
    "    data=json_data,\n",
    "    name='RTRW',\n",
    "    hover_style={'fillColor': {'red','blue','yellow','orange','cyan','green'}, 'fillOpacity': 0.5},\n",
    ")\n",
    "Map.add_layer(json_layer)\n"
   ]
  },
  {
   "cell_type": "code",
   "execution_count": 12,
   "metadata": {},
   "outputs": [],
   "source": [
    "file_path2 = os.path.abspath('D:/shp/HATson.geojson')\n",
    "\n",
    "if not os.path.exists(file_path2):\n",
    "    url = 'https://github.com/fiopiohoho/SUSU-MORNING.github.io/blob/main/shp/HATson.geojson'\n",
    "    r = requests.get(url)\n",
    "    with open(file_path2, 'w') as f:\n",
    "        f.write(r.content.decode(\"utf-8\"))\n",
    "\n",
    "with open(file_path2) as f:\n",
    "    json_data = json.load(f)\n",
    "\n",
    "# display layer\n",
    "\n",
    "    json_layer = GeoJSON(\n",
    "    data=json_data,\n",
    "    name='HAT',\n",
    "    hover_style={'fillColor': 'yellow', 'fillOpacity': 0.5},\n",
    ")\n",
    "Map.add_layer(json_layer)"
   ]
  },
  {
   "attachments": {},
   "cell_type": "markdown",
   "metadata": {},
   "source": [
    "### Visualizing ESRI Global Land Cover."
   ]
  },
  {
   "cell_type": "code",
   "execution_count": 13,
   "metadata": {},
   "outputs": [],
   "source": [
    "esri = ee.ImageCollection(\n",
    "    \"projects/sat-io/open-datasets/landcover/ESRI_Global-LULC_10m\"\n",
    ").mosaic()\n",
    "esri_vis = {\n",
    "    'min': 1,\n",
    "    'max': 10,\n",
    "    'palette': [\n",
    "        \"#1A5BAB\",\n",
    "        \"#358221\",\n",
    "        \"#A7D282\",\n",
    "        \"#87D19E\",\n",
    "        \"#FFDB5C\",\n",
    "        \"#EECFA8\",\n",
    "        \"#ED022A\",\n",
    "        \"#EDE9E4\",\n",
    "        \"#F2FAFF\",\n",
    "        \"#C8C8C8\",\n",
    "    ],\n",
    "}\n",
    "\n",
    "Map.addLayer(esri, esri_vis, \"ESRI Land Cover\")\n",
    "Map.add_legend(title=\"ESRI Land Cover\", builtin_legend='ESRI_LandCover')\n",
    "\n"
   ]
  },
  {
   "cell_type": "code",
   "execution_count": 14,
   "metadata": {},
   "outputs": [
    {
     "ename": "TypeError",
     "evalue": "add_geojson() got an unexpected keyword argument 'style_function'",
     "output_type": "error",
     "traceback": [
      "\u001b[1;31m---------------------------------------------------------------------------\u001b[0m",
      "\u001b[1;31mTypeError\u001b[0m                                 Traceback (most recent call last)",
      "\u001b[1;32md:\\2023\\Coffe Morning\\SUSU-MORNING.github.io\\Examples\\InteractiveMap.ipynb Cell 8\u001b[0m in \u001b[0;36m<cell line: 24>\u001b[1;34m()\u001b[0m\n\u001b[0;32m     <a href='vscode-notebook-cell:/d%3A/2023/Coffe%20Morning/SUSU-MORNING.github.io/Examples/InteractiveMap.ipynb#X16sZmlsZQ%3D%3D?line=20'>21</a>\u001b[0m     \u001b[39mreturn\u001b[39;00m {\u001b[39m'\u001b[39m\u001b[39mfillColor\u001b[39m\u001b[39m'\u001b[39m: color, \u001b[39m'\u001b[39m\u001b[39mcolor\u001b[39m\u001b[39m'\u001b[39m: \u001b[39m'\u001b[39m\u001b[39mblack\u001b[39m\u001b[39m'\u001b[39m, \u001b[39m'\u001b[39m\u001b[39mweight\u001b[39m\u001b[39m'\u001b[39m: \u001b[39m1\u001b[39m, \u001b[39m'\u001b[39m\u001b[39mfillOpacity\u001b[39m\u001b[39m'\u001b[39m: \u001b[39m0.6\u001b[39m}\n\u001b[0;32m     <a href='vscode-notebook-cell:/d%3A/2023/Coffe%20Morning/SUSU-MORNING.github.io/Examples/InteractiveMap.ipynb#X16sZmlsZQ%3D%3D?line=22'>23</a>\u001b[0m \u001b[39m# Add the GeoJSON layer to the map\u001b[39;00m\n\u001b[1;32m---> <a href='vscode-notebook-cell:/d%3A/2023/Coffe%20Morning/SUSU-MORNING.github.io/Examples/InteractiveMap.ipynb#X16sZmlsZQ%3D%3D?line=23'>24</a>\u001b[0m Map\u001b[39m.\u001b[39;49madd_geojson(geojson_file, style_function\u001b[39m=\u001b[39;49mstyle_function)\n\u001b[0;32m     <a href='vscode-notebook-cell:/d%3A/2023/Coffe%20Morning/SUSU-MORNING.github.io/Examples/InteractiveMap.ipynb#X16sZmlsZQ%3D%3D?line=25'>26</a>\u001b[0m \u001b[39m# Display the map\u001b[39;00m\n\u001b[0;32m     <a href='vscode-notebook-cell:/d%3A/2023/Coffe%20Morning/SUSU-MORNING.github.io/Examples/InteractiveMap.ipynb#X16sZmlsZQ%3D%3D?line=26'>27</a>\u001b[0m Map\n",
      "\u001b[1;31mTypeError\u001b[0m: add_geojson() got an unexpected keyword argument 'style_function'"
     ]
    }
   ],
   "source": [
    "import geemap\n",
    "\n",
    "# Create a Map instance\n",
    "Map = geemap.Map()\n",
    "\n",
    "# Specify the path to your GeoJSON file\n",
    "geojson_file = 'D:/shp/RTRW_js.geojson'\n",
    "\n",
    "# Define the style function\n",
    "def style_function(feature):\n",
    "    color = None\n",
    "    if feature['NAMOBJ']['color'] == 'type1':\n",
    "        color = 'blue'\n",
    "    elif feature['NAMOBJ']['color'] == 'type2':\n",
    "        color = 'red'\n",
    "    elif feature['NAMOBJ']['color'] == 'type3':\n",
    "        color = 'green'\n",
    "    else:\n",
    "        color = 'gray'\n",
    "    \n",
    "    return {'fillColor': color, 'color': 'black', 'weight': 1, 'fillOpacity': 0.6}\n",
    "\n",
    "# Add the GeoJSON layer to the map\n",
    "Map.add_geojson(geojson_file, style_function=style_function)\n",
    "\n",
    "# Display the map\n",
    "Map\n"
   ]
  }
 ],
 "metadata": {
  "kernelspec": {
   "display_name": "gee",
   "language": "python",
   "name": "python3"
  },
  "language_info": {
   "codemirror_mode": {
    "name": "ipython",
    "version": 3
   },
   "file_extension": ".py",
   "mimetype": "text/x-python",
   "name": "python",
   "nbconvert_exporter": "python",
   "pygments_lexer": "ipython3",
   "version": "3.9.12"
  },
  "orig_nbformat": 4
 },
 "nbformat": 4,
 "nbformat_minor": 2
}
