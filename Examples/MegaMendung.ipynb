{
 "cells": [
  {
   "attachments": {},
   "cell_type": "markdown",
   "metadata": {},
   "source": [
    "``Instal Leafmap``"
   ]
  },
  {
   "cell_type": "code",
   "execution_count": null,
   "metadata": {},
   "outputs": [],
   "source": [
    "#!pip install leafmap geopandas pycrs osmnx"
   ]
  },
  {
   "cell_type": "code",
   "execution_count": 1,
   "metadata": {},
   "outputs": [],
   "source": [
    "import os\n",
    "import json\n",
    "import sys\n",
    "import requests\n",
    "import webbrowser\n",
    "import leafmap\n",
    "import folium\n",
    "import geopandas as gpd\n",
    "import requests"
   ]
  },
  {
   "cell_type": "code",
   "execution_count": 2,
   "metadata": {},
   "outputs": [
    {
     "data": {
      "application/vnd.jupyter.widget-view+json": {
       "model_id": "9627678599a248c785c548e2981573f6",
       "version_major": 2,
       "version_minor": 0
      },
      "text/plain": [
       "Map(center=[-0.47855795607524837, 100.34645777487707], controls=(ZoomControl(options=['position', 'zoom_in_tex…"
      ]
     },
     "metadata": {},
     "output_type": "display_data"
    }
   ],
   "source": [
    "m = leafmap.Map(center=[-0.47855795607524837, 100.34645777487707], zoom=12)\n",
    "in_geojson = 'https://github.com/fiopiohoho/SUSU-MORNING/blob/7852a2cab43cc35406677eb1a8ee698dd3faf7c4/shp/RTRW_js.geojson'\n",
    "url = 'https://github.com/fiopiohoho/SUSU-MORNING/blob/2130941e58392a3ffa71647890a4512152b5e9f7/shp/HATson.geojson'\n",
    "style = {'fillOpacity': 0.5}\n",
    "m.add_geojson(\n",
    "    in_geojson,\n",
    "    layer_name=\"rtrw\",\n",
    "    style=style,\n",
    "    fill_colors=['red', 'yellow', 'green', 'orange'],\n",
    ")\n",
    "m.add_geojson(url, layer_name=\"HAT\")\n",
    "m"
   ]
  },
  {
   "attachments": {},
   "cell_type": "markdown",
   "metadata": {},
   "source": [
    "## Buka Dokumen PDF"
   ]
  },
  {
   "cell_type": "code",
   "execution_count": 37,
   "metadata": {},
   "outputs": [
    {
     "data": {
      "text/html": [
       "<div style=\"width:100%;\"><div style=\"position:relative;width:100%;height:0;padding-bottom:60%;\"><span style=\"color:#565656\">Make this Notebook Trusted to load map: File -> Trust Notebook</span><iframe srcdoc=\"&lt;!DOCTYPE html&gt;\n",
       "&lt;html&gt;\n",
       "&lt;head&gt;\n",
       "    \n",
       "    &lt;meta http-equiv=&quot;content-type&quot; content=&quot;text/html; charset=UTF-8&quot; /&gt;\n",
       "    \n",
       "        &lt;script&gt;\n",
       "            L_NO_TOUCH = false;\n",
       "            L_DISABLE_3D = false;\n",
       "        &lt;/script&gt;\n",
       "    \n",
       "    &lt;style&gt;html, body {width: 100%;height: 100%;margin: 0;padding: 0;}&lt;/style&gt;\n",
       "    &lt;style&gt;#map {position:absolute;top:0;bottom:0;right:0;left:0;}&lt;/style&gt;\n",
       "    &lt;script src=&quot;https://cdn.jsdelivr.net/npm/leaflet@1.6.0/dist/leaflet.js&quot;&gt;&lt;/script&gt;\n",
       "    &lt;script src=&quot;https://code.jquery.com/jquery-1.12.4.min.js&quot;&gt;&lt;/script&gt;\n",
       "    &lt;script src=&quot;https://maxcdn.bootstrapcdn.com/bootstrap/3.2.0/js/bootstrap.min.js&quot;&gt;&lt;/script&gt;\n",
       "    &lt;script src=&quot;https://cdnjs.cloudflare.com/ajax/libs/Leaflet.awesome-markers/2.0.2/leaflet.awesome-markers.js&quot;&gt;&lt;/script&gt;\n",
       "    &lt;link rel=&quot;stylesheet&quot; href=&quot;https://cdn.jsdelivr.net/npm/leaflet@1.6.0/dist/leaflet.css&quot;/&gt;\n",
       "    &lt;link rel=&quot;stylesheet&quot; href=&quot;https://maxcdn.bootstrapcdn.com/bootstrap/3.2.0/css/bootstrap.min.css&quot;/&gt;\n",
       "    &lt;link rel=&quot;stylesheet&quot; href=&quot;https://maxcdn.bootstrapcdn.com/bootstrap/3.2.0/css/bootstrap-theme.min.css&quot;/&gt;\n",
       "    &lt;link rel=&quot;stylesheet&quot; href=&quot;https://maxcdn.bootstrapcdn.com/font-awesome/4.6.3/css/font-awesome.min.css&quot;/&gt;\n",
       "    &lt;link rel=&quot;stylesheet&quot; href=&quot;https://cdnjs.cloudflare.com/ajax/libs/Leaflet.awesome-markers/2.0.2/leaflet.awesome-markers.css&quot;/&gt;\n",
       "    &lt;link rel=&quot;stylesheet&quot; href=&quot;https://cdn.jsdelivr.net/gh/python-visualization/folium/folium/templates/leaflet.awesome.rotate.min.css&quot;/&gt;\n",
       "    \n",
       "            &lt;meta name=&quot;viewport&quot; content=&quot;width=device-width,\n",
       "                initial-scale=1.0, maximum-scale=1.0, user-scalable=no&quot; /&gt;\n",
       "            &lt;style&gt;\n",
       "                #map_a6157144313d5fd5aa8461e3c4db5a98 {\n",
       "                    position: relative;\n",
       "                    width: 100.0%;\n",
       "                    height: 100.0%;\n",
       "                    left: 0.0%;\n",
       "                    top: 0.0%;\n",
       "                }\n",
       "            &lt;/style&gt;\n",
       "        \n",
       "&lt;/head&gt;\n",
       "&lt;body&gt;\n",
       "    \n",
       "    \n",
       "            &lt;div class=&quot;folium-map&quot; id=&quot;map_a6157144313d5fd5aa8461e3c4db5a98&quot; &gt;&lt;/div&gt;\n",
       "        \n",
       "&lt;/body&gt;\n",
       "&lt;script&gt;\n",
       "    \n",
       "    \n",
       "            var map_a6157144313d5fd5aa8461e3c4db5a98 = L.map(\n",
       "                &quot;map_a6157144313d5fd5aa8461e3c4db5a98&quot;,\n",
       "                {\n",
       "                    center: [-0.484666, 100.341169],\n",
       "                    crs: L.CRS.EPSG3857,\n",
       "                    zoom: 13,\n",
       "                    zoomControl: true,\n",
       "                    preferCanvas: false,\n",
       "                }\n",
       "            );\n",
       "\n",
       "            \n",
       "\n",
       "        \n",
       "    \n",
       "            var tile_layer_1c4b8c09aa5fab04a771721d0819b210 = L.tileLayer(\n",
       "                &quot;https://{s}.tile.openstreetmap.org/{z}/{x}/{y}.png&quot;,\n",
       "                {&quot;attribution&quot;: &quot;Data by \\u0026copy; \\u003ca href=\\&quot;http://openstreetmap.org\\&quot;\\u003eOpenStreetMap\\u003c/a\\u003e, under \\u003ca href=\\&quot;http://www.openstreetmap.org/copyright\\&quot;\\u003eODbL\\u003c/a\\u003e.&quot;, &quot;detectRetina&quot;: false, &quot;maxNativeZoom&quot;: 18, &quot;maxZoom&quot;: 18, &quot;minZoom&quot;: 0, &quot;noWrap&quot;: false, &quot;opacity&quot;: 1, &quot;subdomains&quot;: &quot;abc&quot;, &quot;tms&quot;: false}\n",
       "            ).addTo(map_a6157144313d5fd5aa8461e3c4db5a98);\n",
       "        \n",
       "    \n",
       "            var marker_7360fd48283e737ac8ca0bd90e54bd5c = L.marker(\n",
       "                [-0.484666, 100.341169],\n",
       "                {}\n",
       "            ).addTo(map_a6157144313d5fd5aa8461e3c4db5a98);\n",
       "        \n",
       "    \n",
       "            var icon_78f0fa723b6e687bea1e296c9d154041 = L.AwesomeMarkers.icon(\n",
       "                {&quot;extraClasses&quot;: &quot;fa-rotate-0&quot;, &quot;icon&quot;: &quot;file-pdf-o&quot;, &quot;iconColor&quot;: &quot;white&quot;, &quot;markerColor&quot;: &quot;blue&quot;, &quot;prefix&quot;: &quot;fa&quot;}\n",
       "            );\n",
       "            marker_7360fd48283e737ac8ca0bd90e54bd5c.setIcon(icon_78f0fa723b6e687bea1e296c9d154041);\n",
       "        \n",
       "    \n",
       "        var popup_f0a524590ab0d401f7906de224d88a6c = L.popup({&quot;maxWidth&quot;: &quot;100%&quot;});\n",
       "\n",
       "        \n",
       "            \n",
       "                var html_f6cc858b11eed24cc4b04ed894e34fdc = $(`&lt;div id=&quot;html_f6cc858b11eed24cc4b04ed894e34fdc&quot; style=&quot;width: 100.0%; height: 100.0%;&quot;&gt;&lt;a href=https://github.com/fiopiohoho/SUSU-MORNING.github.io/blob/main/Doc/_1_PTHIDAYAHHOTELSYARIAH.html&gt;link PDF&lt;/a&gt;&lt;/div&gt;`)[0];\n",
       "                popup_f0a524590ab0d401f7906de224d88a6c.setContent(html_f6cc858b11eed24cc4b04ed894e34fdc);\n",
       "            \n",
       "        \n",
       "\n",
       "        marker_7360fd48283e737ac8ca0bd90e54bd5c.bindPopup(popup_f0a524590ab0d401f7906de224d88a6c)\n",
       "        ;\n",
       "\n",
       "        \n",
       "    \n",
       "&lt;/script&gt;\n",
       "&lt;/html&gt;\" style=\"position:absolute;width:100%;height:100%;left:0;top:0;border:none !important;\" allowfullscreen webkitallowfullscreen mozallowfullscreen></iframe></div></div>"
      ],
      "text/plain": [
       "<folium.folium.Map at 0x1843a7b3a90>"
      ]
     },
     "execution_count": 37,
     "metadata": {},
     "output_type": "execute_result"
    }
   ],
   "source": [
    "import folium\n",
    "from folium.plugins import FloatImage\n",
    "# Create a map centered on a specific location\n",
    "m = folium.Map(location=[-0.484666, 100.341169], zoom_start=13)\n",
    "\n",
    "# Add a marker for the PDF file\n",
    "pdf_marker = folium.Marker(\n",
    "    location=[-0.484666, 100.341169],\n",
    "    # popup='https://drive.google.com/drive/u/0/folders/1Z4mZE9RJ1sDqQvY7fVsPHuhaDYIjd3w-',\n",
    "    # popup='D:\\_1_PTHIDAYAHHOTELSYARIAH.pdf',\n",
    "    popup=\"<a href=https://github.com/fiopiohoho/SUSU-MORNING.github.io/blob/main/Doc/_1_PTHIDAYAHHOTELSYARIAH.html>link PDF</a>\",\n",
    "    icon=folium.Icon(icon=\"file-pdf-o\", prefix=\"fa\")\n",
    ")\n",
    "\n",
    "# Add the marker to the map\n",
    "pdf_marker.add_to(m)\n",
    "\n",
    "# Display the map\n",
    "m\n"
   ]
  },
  {
   "cell_type": "code",
   "execution_count": 31,
   "metadata": {},
   "outputs": [
    {
     "ename": "TypeError",
     "evalue": "Can't compile non template nodes",
     "output_type": "error",
     "traceback": [
      "\u001b[1;31m---------------------------------------------------------------------------\u001b[0m",
      "\u001b[1;31mTypeError\u001b[0m                                 Traceback (most recent call last)",
      "Cell \u001b[1;32mIn[31], line 10\u001b[0m\n\u001b[0;32m      7\u001b[0m github_url \u001b[39m=\u001b[39m \u001b[39m\"\u001b[39m\u001b[39mhttps://github.com/fiopiohoho/SUSU-MORNING.github.io/blob/75c0ec0f34330eace19316aded5dba133186fe87/Doc/_1_PTHIDAYAHHOTELSYARIAH.pdf\u001b[39m\u001b[39m\"\u001b[39m\n\u001b[0;32m      9\u001b[0m pdf_content \u001b[39m=\u001b[39m requests\u001b[39m.\u001b[39mget(github_url)\u001b[39m.\u001b[39mcontent\n\u001b[1;32m---> 10\u001b[0m iframe \u001b[39m=\u001b[39m IFrame(pdf_content, width\u001b[39m=\u001b[39;49m\u001b[39m700\u001b[39;49m, height\u001b[39m=\u001b[39;49m\u001b[39m450\u001b[39;49m)\n\u001b[0;32m     11\u001b[0m popup \u001b[39m=\u001b[39m folium\u001b[39m.\u001b[39mPopup(iframe, max_width\u001b[39m=\u001b[39m\u001b[39m800\u001b[39m)\n\u001b[0;32m     12\u001b[0m marker \u001b[39m=\u001b[39m folium\u001b[39m.\u001b[39mMarker(location\u001b[39m=\u001b[39m[\u001b[39m-\u001b[39m\u001b[39m0.484666\u001b[39m, \u001b[39m100.341169\u001b[39m], popup\u001b[39m=\u001b[39mpopup)\n",
      "File \u001b[1;32mc:\\Users\\setditjenpptr\\miniconda3\\envs\\geo\\lib\\site-packages\\branca\\element.py:570\u001b[0m, in \u001b[0;36mIFrame.__init__\u001b[1;34m(self, html, width, height, ratio, figsize)\u001b[0m\n\u001b[0;32m    567\u001b[0m     \u001b[39mself\u001b[39m\u001b[39m.\u001b[39mheight \u001b[39m=\u001b[39m \u001b[39mstr\u001b[39m(\u001b[39m60\u001b[39m\u001b[39m*\u001b[39mfigsize[\u001b[39m1\u001b[39m])\u001b[39m+\u001b[39m\u001b[39m'\u001b[39m\u001b[39mpx\u001b[39m\u001b[39m'\u001b[39m\n\u001b[0;32m    569\u001b[0m \u001b[39mif\u001b[39;00m \u001b[39misinstance\u001b[39m(html, \u001b[39mstr\u001b[39m) \u001b[39mor\u001b[39;00m \u001b[39misinstance\u001b[39m(html, \u001b[39mbytes\u001b[39m):\n\u001b[1;32m--> 570\u001b[0m     \u001b[39mself\u001b[39m\u001b[39m.\u001b[39madd_child(Element(html))\n\u001b[0;32m    571\u001b[0m \u001b[39melif\u001b[39;00m html \u001b[39mis\u001b[39;00m \u001b[39mnot\u001b[39;00m \u001b[39mNone\u001b[39;00m:\n\u001b[0;32m    572\u001b[0m     \u001b[39mself\u001b[39m\u001b[39m.\u001b[39madd_child(html)\n",
      "File \u001b[1;32mc:\\Users\\setditjenpptr\\miniconda3\\envs\\geo\\lib\\site-packages\\branca\\element.py:61\u001b[0m, in \u001b[0;36mElement.__init__\u001b[1;34m(self, template, template_name)\u001b[0m\n\u001b[0;32m     58\u001b[0m \u001b[39mself\u001b[39m\u001b[39m.\u001b[39m_parent \u001b[39m=\u001b[39m \u001b[39mNone\u001b[39;00m\n\u001b[0;32m     60\u001b[0m \u001b[39mif\u001b[39;00m template \u001b[39mis\u001b[39;00m \u001b[39mnot\u001b[39;00m \u001b[39mNone\u001b[39;00m:\n\u001b[1;32m---> 61\u001b[0m     \u001b[39mself\u001b[39m\u001b[39m.\u001b[39m_template \u001b[39m=\u001b[39m Template(template)\n\u001b[0;32m     62\u001b[0m \u001b[39melif\u001b[39;00m template_name \u001b[39mis\u001b[39;00m \u001b[39mnot\u001b[39;00m \u001b[39mNone\u001b[39;00m:\n\u001b[0;32m     63\u001b[0m     \u001b[39mself\u001b[39m\u001b[39m.\u001b[39m_template \u001b[39m=\u001b[39m ENV\u001b[39m.\u001b[39mget_template(template_name)\n",
      "File \u001b[1;32mc:\\Users\\setditjenpptr\\miniconda3\\envs\\geo\\lib\\site-packages\\jinja2\\environment.py:1208\u001b[0m, in \u001b[0;36mTemplate.__new__\u001b[1;34m(cls, source, block_start_string, block_end_string, variable_start_string, variable_end_string, comment_start_string, comment_end_string, line_statement_prefix, line_comment_prefix, trim_blocks, lstrip_blocks, newline_sequence, keep_trailing_newline, extensions, optimized, undefined, finalize, autoescape, enable_async)\u001b[0m\n\u001b[0;32m   1161\u001b[0m \u001b[39mdef\u001b[39;00m \u001b[39m__new__\u001b[39m(\n\u001b[0;32m   1162\u001b[0m     \u001b[39mcls\u001b[39m,\n\u001b[0;32m   1163\u001b[0m     source: t\u001b[39m.\u001b[39mUnion[\u001b[39mstr\u001b[39m, nodes\u001b[39m.\u001b[39mTemplate],\n\u001b[1;32m   (...)\u001b[0m\n\u001b[0;32m   1181\u001b[0m     enable_async: \u001b[39mbool\u001b[39m \u001b[39m=\u001b[39m \u001b[39mFalse\u001b[39;00m,\n\u001b[0;32m   1182\u001b[0m ) \u001b[39m-\u001b[39m\u001b[39m>\u001b[39m t\u001b[39m.\u001b[39mAny:  \u001b[39m# it returns a `Template`, but this breaks the sphinx build...\u001b[39;00m\n\u001b[0;32m   1183\u001b[0m     env \u001b[39m=\u001b[39m get_spontaneous_environment(\n\u001b[0;32m   1184\u001b[0m         \u001b[39mcls\u001b[39m\u001b[39m.\u001b[39menvironment_class,  \u001b[39m# type: ignore\u001b[39;00m\n\u001b[0;32m   1185\u001b[0m         block_start_string,\n\u001b[1;32m   (...)\u001b[0m\n\u001b[0;32m   1206\u001b[0m         enable_async,\n\u001b[0;32m   1207\u001b[0m     )\n\u001b[1;32m-> 1208\u001b[0m     \u001b[39mreturn\u001b[39;00m env\u001b[39m.\u001b[39;49mfrom_string(source, template_class\u001b[39m=\u001b[39;49m\u001b[39mcls\u001b[39;49m)\n",
      "File \u001b[1;32mc:\\Users\\setditjenpptr\\miniconda3\\envs\\geo\\lib\\site-packages\\jinja2\\environment.py:1105\u001b[0m, in \u001b[0;36mEnvironment.from_string\u001b[1;34m(self, source, globals, template_class)\u001b[0m\n\u001b[0;32m   1103\u001b[0m gs \u001b[39m=\u001b[39m \u001b[39mself\u001b[39m\u001b[39m.\u001b[39mmake_globals(\u001b[39mglobals\u001b[39m)\n\u001b[0;32m   1104\u001b[0m \u001b[39mcls\u001b[39m \u001b[39m=\u001b[39m template_class \u001b[39mor\u001b[39;00m \u001b[39mself\u001b[39m\u001b[39m.\u001b[39mtemplate_class\n\u001b[1;32m-> 1105\u001b[0m \u001b[39mreturn\u001b[39;00m \u001b[39mcls\u001b[39m\u001b[39m.\u001b[39mfrom_code(\u001b[39mself\u001b[39m, \u001b[39mself\u001b[39;49m\u001b[39m.\u001b[39;49mcompile(source), gs, \u001b[39mNone\u001b[39;00m)\n",
      "File \u001b[1;32mc:\\Users\\setditjenpptr\\miniconda3\\envs\\geo\\lib\\site-packages\\jinja2\\environment.py:761\u001b[0m, in \u001b[0;36mEnvironment.compile\u001b[1;34m(self, source, name, filename, raw, defer_init)\u001b[0m\n\u001b[0;32m    759\u001b[0m     source_hint \u001b[39m=\u001b[39m source\n\u001b[0;32m    760\u001b[0m     source \u001b[39m=\u001b[39m \u001b[39mself\u001b[39m\u001b[39m.\u001b[39m_parse(source, name, filename)\n\u001b[1;32m--> 761\u001b[0m source \u001b[39m=\u001b[39m \u001b[39mself\u001b[39;49m\u001b[39m.\u001b[39;49m_generate(source, name, filename, defer_init\u001b[39m=\u001b[39;49mdefer_init)\n\u001b[0;32m    762\u001b[0m \u001b[39mif\u001b[39;00m raw:\n\u001b[0;32m    763\u001b[0m     \u001b[39mreturn\u001b[39;00m source\n",
      "File \u001b[1;32mc:\\Users\\setditjenpptr\\miniconda3\\envs\\geo\\lib\\site-packages\\jinja2\\environment.py:689\u001b[0m, in \u001b[0;36mEnvironment._generate\u001b[1;34m(self, source, name, filename, defer_init)\u001b[0m\n\u001b[0;32m    677\u001b[0m \u001b[39mdef\u001b[39;00m \u001b[39m_generate\u001b[39m(\n\u001b[0;32m    678\u001b[0m     \u001b[39mself\u001b[39m,\n\u001b[0;32m    679\u001b[0m     source: nodes\u001b[39m.\u001b[39mTemplate,\n\u001b[1;32m   (...)\u001b[0m\n\u001b[0;32m    682\u001b[0m     defer_init: \u001b[39mbool\u001b[39m \u001b[39m=\u001b[39m \u001b[39mFalse\u001b[39;00m,\n\u001b[0;32m    683\u001b[0m ) \u001b[39m-\u001b[39m\u001b[39m>\u001b[39m \u001b[39mstr\u001b[39m:\n\u001b[0;32m    684\u001b[0m \u001b[39m    \u001b[39m\u001b[39m\"\"\"Internal hook that can be overridden to hook a different generate\u001b[39;00m\n\u001b[0;32m    685\u001b[0m \u001b[39m    method in.\u001b[39;00m\n\u001b[0;32m    686\u001b[0m \n\u001b[0;32m    687\u001b[0m \u001b[39m    .. versionadded:: 2.5\u001b[39;00m\n\u001b[0;32m    688\u001b[0m \u001b[39m    \"\"\"\u001b[39;00m\n\u001b[1;32m--> 689\u001b[0m     \u001b[39mreturn\u001b[39;00m generate(  \u001b[39m# type: ignore\u001b[39;49;00m\n\u001b[0;32m    690\u001b[0m         source,\n\u001b[0;32m    691\u001b[0m         \u001b[39mself\u001b[39;49m,\n\u001b[0;32m    692\u001b[0m         name,\n\u001b[0;32m    693\u001b[0m         filename,\n\u001b[0;32m    694\u001b[0m         defer_init\u001b[39m=\u001b[39;49mdefer_init,\n\u001b[0;32m    695\u001b[0m         optimized\u001b[39m=\u001b[39;49m\u001b[39mself\u001b[39;49m\u001b[39m.\u001b[39;49moptimized,\n\u001b[0;32m    696\u001b[0m     )\n",
      "File \u001b[1;32mc:\\Users\\setditjenpptr\\miniconda3\\envs\\geo\\lib\\site-packages\\jinja2\\compiler.py:112\u001b[0m, in \u001b[0;36mgenerate\u001b[1;34m(node, environment, name, filename, stream, defer_init, optimized)\u001b[0m\n\u001b[0;32m    110\u001b[0m \u001b[39m\u001b[39m\u001b[39m\"\"\"Generate the python source for a node tree.\"\"\"\u001b[39;00m\n\u001b[0;32m    111\u001b[0m \u001b[39mif\u001b[39;00m \u001b[39mnot\u001b[39;00m \u001b[39misinstance\u001b[39m(node, nodes\u001b[39m.\u001b[39mTemplate):\n\u001b[1;32m--> 112\u001b[0m     \u001b[39mraise\u001b[39;00m \u001b[39mTypeError\u001b[39;00m(\u001b[39m\"\u001b[39m\u001b[39mCan\u001b[39m\u001b[39m'\u001b[39m\u001b[39mt compile non template nodes\u001b[39m\u001b[39m\"\u001b[39m)\n\u001b[0;32m    114\u001b[0m generator \u001b[39m=\u001b[39m environment\u001b[39m.\u001b[39mcode_generator_class(\n\u001b[0;32m    115\u001b[0m     environment, name, filename, stream, defer_init, optimized\n\u001b[0;32m    116\u001b[0m )\n\u001b[0;32m    117\u001b[0m generator\u001b[39m.\u001b[39mvisit(node)\n",
      "\u001b[1;31mTypeError\u001b[0m: Can't compile non template nodes"
     ]
    }
   ],
   "source": [
    "import folium\n",
    "from folium import IFrame\n",
    "import requests\n",
    "\n",
    "m = folium.Map(location=[-0.484666, 100.341169], zoom_start=12)\n",
    "\n",
    "github_url = \"https://github.com/fiopiohoho/SUSU-MORNING.github.io/blob/75c0ec0f34330eace19316aded5dba133186fe87/Doc/_1_PTHIDAYAHHOTELSYARIAH.pdf\"\n",
    "\n",
    "pdf_content = requests.get(github_url).content\n",
    "iframe = IFrame(pdf_content, width=700, height=450)\n",
    "popup = folium.Popup(iframe, max_width=800)\n",
    "marker = folium.Marker(location=[-0.484666, 100.341169], popup=popup)\n",
    "marker.add_to(m)\n",
    "\n",
    "m\n",
    "\n",
    "\n"
   ]
  }
 ],
 "metadata": {
  "kernelspec": {
   "display_name": "geo",
   "language": "python",
   "name": "python3"
  },
  "language_info": {
   "codemirror_mode": {
    "name": "ipython",
    "version": 3
   },
   "file_extension": ".py",
   "mimetype": "text/x-python",
   "name": "python",
   "nbconvert_exporter": "python",
   "pygments_lexer": "ipython3",
   "version": "3.9.16"
  },
  "orig_nbformat": 4
 },
 "nbformat": 4,
 "nbformat_minor": 2
}
