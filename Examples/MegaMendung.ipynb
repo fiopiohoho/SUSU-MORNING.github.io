{
 "cells": [
  {
   "attachments": {},
   "cell_type": "markdown",
   "metadata": {},
   "source": [
    "``Instal Leafmap``"
   ]
  },
  {
   "cell_type": "code",
   "execution_count": 19,
   "metadata": {},
   "outputs": [],
   "source": [
    "#!pip install leafmap geopandas pycrs osmnx"
   ]
  },
  {
   "cell_type": "code",
   "execution_count": 20,
   "metadata": {},
   "outputs": [],
   "source": [
    "import os\n",
    "import json\n",
    "import sys\n",
    "import requests\n",
    "import webbrowser\n",
    "import leafmap.leafmap as leafmap\n",
    "import folium\n",
    "import geopandas as gpd\n",
    "import requests"
   ]
  },
  {
   "cell_type": "code",
   "execution_count": 21,
   "metadata": {},
   "outputs": [
    {
     "data": {
      "application/vnd.jupyter.widget-view+json": {
       "model_id": "07eb08b7e1c84ad9a417314e2c57268d",
       "version_major": 2,
       "version_minor": 0
      },
      "text/plain": [
       "Map(center=[-0.47855795607524837, 100.34645777487707], controls=(ZoomControl(options=['position', 'zoom_in_tex…"
      ]
     },
     "metadata": {},
     "output_type": "display_data"
    }
   ],
   "source": [
    "m = leafmap.Map(center=[-0.47855795607524837, 100.34645777487707], zoom=12)\n",
    "in_geojson = 'https://github.com/fiopiohoho/SUSU-MORNING/blob/7852a2cab43cc35406677eb1a8ee698dd3faf7c4/shp/RTRW_js.geojson'\n",
    "url = 'https://github.com/fiopiohoho/SUSU-MORNING/blob/2130941e58392a3ffa71647890a4512152b5e9f7/shp/HATson.geojson'\n",
    "style = {'fillOpacity': 0.5}\n",
    "m.add_geojson(\n",
    "    in_geojson,\n",
    "    layer_name=\"rtrw\",\n",
    "    style=style,\n",
    "    fill_colors=['red', 'yellow', 'green', 'orange'],\n",
    ")\n",
    "m.add_geojson(url, layer_name=\"HAT\")\n",
    "m"
   ]
  },
  {
   "cell_type": "code",
   "execution_count": 27,
   "metadata": {},
   "outputs": [
    {
     "data": {
      "text/html": [
       "<div style=\"width:100%;\"><div style=\"position:relative;width:100%;height:0;padding-bottom:60%;\"><span style=\"color:#565656\">Make this Notebook Trusted to load map: File -> Trust Notebook</span><iframe srcdoc=\"&lt;!DOCTYPE html&gt;\n",
       "&lt;html&gt;\n",
       "&lt;head&gt;\n",
       "    \n",
       "    &lt;meta http-equiv=&quot;content-type&quot; content=&quot;text/html; charset=UTF-8&quot; /&gt;\n",
       "    \n",
       "        &lt;script&gt;\n",
       "            L_NO_TOUCH = false;\n",
       "            L_DISABLE_3D = false;\n",
       "        &lt;/script&gt;\n",
       "    \n",
       "    &lt;style&gt;html, body {width: 100%;height: 100%;margin: 0;padding: 0;}&lt;/style&gt;\n",
       "    &lt;style&gt;#map {position:absolute;top:0;bottom:0;right:0;left:0;}&lt;/style&gt;\n",
       "    &lt;script src=&quot;https://cdn.jsdelivr.net/npm/leaflet@1.6.0/dist/leaflet.js&quot;&gt;&lt;/script&gt;\n",
       "    &lt;script src=&quot;https://code.jquery.com/jquery-1.12.4.min.js&quot;&gt;&lt;/script&gt;\n",
       "    &lt;script src=&quot;https://maxcdn.bootstrapcdn.com/bootstrap/3.2.0/js/bootstrap.min.js&quot;&gt;&lt;/script&gt;\n",
       "    &lt;script src=&quot;https://cdnjs.cloudflare.com/ajax/libs/Leaflet.awesome-markers/2.0.2/leaflet.awesome-markers.js&quot;&gt;&lt;/script&gt;\n",
       "    &lt;link rel=&quot;stylesheet&quot; href=&quot;https://cdn.jsdelivr.net/npm/leaflet@1.6.0/dist/leaflet.css&quot;/&gt;\n",
       "    &lt;link rel=&quot;stylesheet&quot; href=&quot;https://maxcdn.bootstrapcdn.com/bootstrap/3.2.0/css/bootstrap.min.css&quot;/&gt;\n",
       "    &lt;link rel=&quot;stylesheet&quot; href=&quot;https://maxcdn.bootstrapcdn.com/bootstrap/3.2.0/css/bootstrap-theme.min.css&quot;/&gt;\n",
       "    &lt;link rel=&quot;stylesheet&quot; href=&quot;https://maxcdn.bootstrapcdn.com/font-awesome/4.6.3/css/font-awesome.min.css&quot;/&gt;\n",
       "    &lt;link rel=&quot;stylesheet&quot; href=&quot;https://cdnjs.cloudflare.com/ajax/libs/Leaflet.awesome-markers/2.0.2/leaflet.awesome-markers.css&quot;/&gt;\n",
       "    &lt;link rel=&quot;stylesheet&quot; href=&quot;https://cdn.jsdelivr.net/gh/python-visualization/folium/folium/templates/leaflet.awesome.rotate.min.css&quot;/&gt;\n",
       "    \n",
       "            &lt;meta name=&quot;viewport&quot; content=&quot;width=device-width,\n",
       "                initial-scale=1.0, maximum-scale=1.0, user-scalable=no&quot; /&gt;\n",
       "            &lt;style&gt;\n",
       "                #map_a919dddfeca8058ccf548e23a61f75c4 {\n",
       "                    position: relative;\n",
       "                    width: 100.0%;\n",
       "                    height: 100.0%;\n",
       "                    left: 0.0%;\n",
       "                    top: 0.0%;\n",
       "                }\n",
       "            &lt;/style&gt;\n",
       "        \n",
       "&lt;/head&gt;\n",
       "&lt;body&gt;\n",
       "    \n",
       "    \n",
       "            &lt;div class=&quot;folium-map&quot; id=&quot;map_a919dddfeca8058ccf548e23a61f75c4&quot; &gt;&lt;/div&gt;\n",
       "        \n",
       "&lt;/body&gt;\n",
       "&lt;script&gt;\n",
       "    \n",
       "    \n",
       "            var map_a919dddfeca8058ccf548e23a61f75c4 = L.map(\n",
       "                &quot;map_a919dddfeca8058ccf548e23a61f75c4&quot;,\n",
       "                {\n",
       "                    center: [-0.47855795607524837, 100.34645777487707],\n",
       "                    crs: L.CRS.EPSG3857,\n",
       "                    zoom: 12,\n",
       "                    zoomControl: true,\n",
       "                    preferCanvas: false,\n",
       "                }\n",
       "            );\n",
       "\n",
       "            \n",
       "\n",
       "        \n",
       "    \n",
       "            var tile_layer_533421d3a7ce4bc1b56a345fb29dfc56 = L.tileLayer(\n",
       "                &quot;https://{s}.tile.openstreetmap.org/{z}/{x}/{y}.png&quot;,\n",
       "                {&quot;attribution&quot;: &quot;Data by \\u0026copy; \\u003ca href=\\&quot;http://openstreetmap.org\\&quot;\\u003eOpenStreetMap\\u003c/a\\u003e, under \\u003ca href=\\&quot;http://www.openstreetmap.org/copyright\\&quot;\\u003eODbL\\u003c/a\\u003e.&quot;, &quot;detectRetina&quot;: false, &quot;maxNativeZoom&quot;: 18, &quot;maxZoom&quot;: 18, &quot;minZoom&quot;: 0, &quot;noWrap&quot;: false, &quot;opacity&quot;: 1, &quot;subdomains&quot;: &quot;abc&quot;, &quot;tms&quot;: false}\n",
       "            ).addTo(map_a919dddfeca8058ccf548e23a61f75c4);\n",
       "        \n",
       "    \n",
       "            var marker_a5e20d65c21ece7de9e4be1b8f91e2c8 = L.marker(\n",
       "                [-0.47855795607524837, 100.34645777487707],\n",
       "                {}\n",
       "            ).addTo(map_a919dddfeca8058ccf548e23a61f75c4);\n",
       "        \n",
       "    \n",
       "        var popup_7a313eb2942cf963f3b26010f6de3af0 = L.popup({&quot;maxWidth&quot;: 250});\n",
       "\n",
       "        \n",
       "            \n",
       "                var html_0c4f0b603fbf5192594ddad160b58b03 = $(`&lt;div id=&quot;html_0c4f0b603fbf5192594ddad160b58b03&quot; style=&quot;width: 100.0%; height: 100.0%;&quot;&gt;&lt;a href=&quot;https://drive.google.com/drive/u/0/folders/&quot; target=&quot;_blank&quot;&gt;Google Drive Link&lt;/a&gt;&lt;/div&gt;`)[0];\n",
       "                popup_7a313eb2942cf963f3b26010f6de3af0.setContent(html_0c4f0b603fbf5192594ddad160b58b03);\n",
       "            \n",
       "        \n",
       "\n",
       "        marker_a5e20d65c21ece7de9e4be1b8f91e2c8.bindPopup(popup_7a313eb2942cf963f3b26010f6de3af0)\n",
       "        ;\n",
       "\n",
       "        \n",
       "    \n",
       "&lt;/script&gt;\n",
       "&lt;/html&gt;\" style=\"position:absolute;width:100%;height:100%;left:0;top:0;border:none !important;\" allowfullscreen webkitallowfullscreen mozallowfullscreen></iframe></div></div>"
      ],
      "text/plain": [
       "<folium.folium.Map at 0x15eb3106580>"
      ]
     },
     "execution_count": 27,
     "metadata": {},
     "output_type": "execute_result"
    }
   ],
   "source": [
    "import folium\n",
    "\n",
    "# Create a Map instance\n",
    "m = folium.Map(location=[-0.47855795607524837, 100.34645777487707], zoom_start=12)\n",
    "\n",
    "# Define the Google Drive link\n",
    "drive_link = \"https://drive.google.com/drive/u/0/folders/\"\n",
    "\n",
    "# Create a custom HTML popup with the link\n",
    "popup_html = f'<a href=\"{drive_link}\" target=\"_blank\">Google Drive Link</a>'\n",
    "popup = folium.Popup(popup_html, max_width=250)\n",
    "\n",
    "# Create a marker with the popup\n",
    "marker = folium.Marker(location=[-0.47855795607524837, 100.34645777487707], popup=popup)\n",
    "\n",
    "# Add the marker to the map\n",
    "marker.add_to(m)\n",
    "\n",
    "# Display the map\n",
    "m\n"
   ]
  }
 ],
 "metadata": {
  "kernelspec": {
   "display_name": "geo",
   "language": "python",
   "name": "python3"
  },
  "language_info": {
   "codemirror_mode": {
    "name": "ipython",
    "version": 3
   },
   "file_extension": ".py",
   "mimetype": "text/x-python",
   "name": "python",
   "nbconvert_exporter": "python",
   "pygments_lexer": "ipython3",
   "version": "3.9.16"
  },
  "orig_nbformat": 4
 },
 "nbformat": 4,
 "nbformat_minor": 2
}
