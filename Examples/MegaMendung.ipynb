{
 "cells": [
  {
   "attachments": {},
   "cell_type": "markdown",
   "metadata": {},
   "source": [
    "``Instal Leafmap``"
   ]
  },
  {
   "cell_type": "code",
   "execution_count": 1,
   "metadata": {},
   "outputs": [
    {
     "name": "stdout",
     "output_type": "stream",
     "text": [
      "Requirement already satisfied: leafmap in c:\\users\\setditjenpptr\\miniconda3\\envs\\geo\\lib\\site-packages (0.20.3)\n",
      "Requirement already satisfied: geopandas in c:\\users\\setditjenpptr\\miniconda3\\envs\\geo\\lib\\site-packages (0.13.0)\n",
      "Requirement already satisfied: pycrs in c:\\users\\setditjenpptr\\miniconda3\\envs\\geo\\lib\\site-packages (1.0.2)\n",
      "Requirement already satisfied: osmnx in c:\\users\\setditjenpptr\\miniconda3\\envs\\geo\\lib\\site-packages (1.4.0)\n",
      "Requirement already satisfied: bqplot in c:\\users\\setditjenpptr\\miniconda3\\envs\\geo\\lib\\site-packages (from leafmap) (0.12.39)\n",
      "Requirement already satisfied: colour in c:\\users\\setditjenpptr\\miniconda3\\envs\\geo\\lib\\site-packages (from leafmap) (0.1.5)\n",
      "Requirement already satisfied: folium<=0.13.0,>=0.11.0 in c:\\users\\setditjenpptr\\miniconda3\\envs\\geo\\lib\\site-packages (from leafmap) (0.13.0)\n",
      "Requirement already satisfied: gdown in c:\\users\\setditjenpptr\\miniconda3\\envs\\geo\\lib\\site-packages (from leafmap) (4.7.1)\n",
      "Requirement already satisfied: geojson in c:\\users\\setditjenpptr\\miniconda3\\envs\\geo\\lib\\site-packages (from leafmap) (3.0.1)\n",
      "Requirement already satisfied: ipyevents in c:\\users\\setditjenpptr\\miniconda3\\envs\\geo\\lib\\site-packages (from leafmap) (2.0.1)\n",
      "Requirement already satisfied: ipyfilechooser>=0.6.0 in c:\\users\\setditjenpptr\\miniconda3\\envs\\geo\\lib\\site-packages (from leafmap) (0.6.0)\n",
      "Requirement already satisfied: ipyleaflet>=0.17.0 in c:\\users\\setditjenpptr\\miniconda3\\envs\\geo\\lib\\site-packages (from leafmap) (0.17.2)\n",
      "Requirement already satisfied: ipywidgets<8.0.0 in c:\\users\\setditjenpptr\\miniconda3\\envs\\geo\\lib\\site-packages (from leafmap) (7.7.5)\n",
      "Requirement already satisfied: matplotlib in c:\\users\\setditjenpptr\\miniconda3\\envs\\geo\\lib\\site-packages (from leafmap) (3.7.1)\n",
      "Requirement already satisfied: numpy in c:\\users\\setditjenpptr\\miniconda3\\envs\\geo\\lib\\site-packages (from leafmap) (1.24.3)\n",
      "Requirement already satisfied: pandas in c:\\users\\setditjenpptr\\miniconda3\\envs\\geo\\lib\\site-packages (from leafmap) (2.0.1)\n",
      "Requirement already satisfied: pyshp>=2.1.3 in c:\\users\\setditjenpptr\\miniconda3\\envs\\geo\\lib\\site-packages (from leafmap) (2.3.1)\n",
      "Requirement already satisfied: pystac-client in c:\\users\\setditjenpptr\\miniconda3\\envs\\geo\\lib\\site-packages (from leafmap) (0.6.1)\n",
      "Requirement already satisfied: python-box in c:\\users\\setditjenpptr\\miniconda3\\envs\\geo\\lib\\site-packages (from leafmap) (7.0.1)\n",
      "Requirement already satisfied: scooby in c:\\users\\setditjenpptr\\miniconda3\\envs\\geo\\lib\\site-packages (from leafmap) (0.7.2)\n",
      "Requirement already satisfied: whiteboxgui>=0.6.0 in c:\\users\\setditjenpptr\\miniconda3\\envs\\geo\\lib\\site-packages (from leafmap) (2.3.0)\n",
      "Requirement already satisfied: xyzservices in c:\\users\\setditjenpptr\\miniconda3\\envs\\geo\\lib\\site-packages (from leafmap) (2023.5.0)\n",
      "Requirement already satisfied: fiona>=1.8.19 in c:\\users\\setditjenpptr\\miniconda3\\envs\\geo\\lib\\site-packages (from geopandas) (1.9.4)\n",
      "Requirement already satisfied: packaging in c:\\users\\setditjenpptr\\miniconda3\\envs\\geo\\lib\\site-packages (from geopandas) (23.1)\n",
      "Requirement already satisfied: pyproj>=3.0.1 in c:\\users\\setditjenpptr\\miniconda3\\envs\\geo\\lib\\site-packages (from geopandas) (3.5.0)\n",
      "Requirement already satisfied: shapely>=1.7.1 in c:\\users\\setditjenpptr\\miniconda3\\envs\\geo\\lib\\site-packages (from geopandas) (2.0.1)\n",
      "Requirement already satisfied: networkx>=2.5 in c:\\users\\setditjenpptr\\miniconda3\\envs\\geo\\lib\\site-packages (from osmnx) (3.1)\n",
      "Requirement already satisfied: requests>=2.25 in c:\\users\\setditjenpptr\\miniconda3\\envs\\geo\\lib\\site-packages (from osmnx) (2.31.0)\n",
      "Requirement already satisfied: attrs>=19.2.0 in c:\\users\\setditjenpptr\\miniconda3\\envs\\geo\\lib\\site-packages (from fiona>=1.8.19->geopandas) (23.1.0)\n",
      "Requirement already satisfied: certifi in c:\\users\\setditjenpptr\\miniconda3\\envs\\geo\\lib\\site-packages (from fiona>=1.8.19->geopandas) (2023.5.7)\n",
      "Requirement already satisfied: click~=8.0 in c:\\users\\setditjenpptr\\miniconda3\\envs\\geo\\lib\\site-packages (from fiona>=1.8.19->geopandas) (8.1.3)\n",
      "Requirement already satisfied: click-plugins>=1.0 in c:\\users\\setditjenpptr\\miniconda3\\envs\\geo\\lib\\site-packages (from fiona>=1.8.19->geopandas) (1.1.1)\n",
      "Requirement already satisfied: cligj>=0.5 in c:\\users\\setditjenpptr\\miniconda3\\envs\\geo\\lib\\site-packages (from fiona>=1.8.19->geopandas) (0.7.2)\n",
      "Requirement already satisfied: six in c:\\users\\setditjenpptr\\miniconda3\\envs\\geo\\lib\\site-packages (from fiona>=1.8.19->geopandas) (1.16.0)\n",
      "Requirement already satisfied: importlib-metadata in c:\\users\\setditjenpptr\\miniconda3\\envs\\geo\\lib\\site-packages (from fiona>=1.8.19->geopandas) (6.6.0)\n",
      "Requirement already satisfied: branca>=0.3.0 in c:\\users\\setditjenpptr\\miniconda3\\envs\\geo\\lib\\site-packages (from folium<=0.13.0,>=0.11.0->leafmap) (0.6.0)\n",
      "Requirement already satisfied: jinja2>=2.9 in c:\\users\\setditjenpptr\\miniconda3\\envs\\geo\\lib\\site-packages (from folium<=0.13.0,>=0.11.0->leafmap) (3.1.2)\n",
      "Requirement already satisfied: traittypes<3,>=0.2.1 in c:\\users\\setditjenpptr\\miniconda3\\envs\\geo\\lib\\site-packages (from ipyleaflet>=0.17.0->leafmap) (0.2.1)\n",
      "Requirement already satisfied: ipykernel>=4.5.1 in c:\\users\\setditjenpptr\\miniconda3\\envs\\geo\\lib\\site-packages (from ipywidgets<8.0.0->leafmap) (6.23.1)\n",
      "Requirement already satisfied: ipython-genutils~=0.2.0 in c:\\users\\setditjenpptr\\miniconda3\\envs\\geo\\lib\\site-packages (from ipywidgets<8.0.0->leafmap) (0.2.0)\n",
      "Requirement already satisfied: traitlets>=4.3.1 in c:\\users\\setditjenpptr\\miniconda3\\envs\\geo\\lib\\site-packages (from ipywidgets<8.0.0->leafmap) (5.9.0)\n",
      "Requirement already satisfied: widgetsnbextension~=3.6.4 in c:\\users\\setditjenpptr\\miniconda3\\envs\\geo\\lib\\site-packages (from ipywidgets<8.0.0->leafmap) (3.6.4)\n",
      "Requirement already satisfied: ipython>=4.0.0 in c:\\users\\setditjenpptr\\miniconda3\\envs\\geo\\lib\\site-packages (from ipywidgets<8.0.0->leafmap) (8.13.2)\n",
      "Requirement already satisfied: jupyterlab-widgets<3,>=1.0.0 in c:\\users\\setditjenpptr\\miniconda3\\envs\\geo\\lib\\site-packages (from ipywidgets<8.0.0->leafmap) (1.1.1)\n",
      "Requirement already satisfied: python-dateutil>=2.8.2 in c:\\users\\setditjenpptr\\miniconda3\\envs\\geo\\lib\\site-packages (from pandas->leafmap) (2.8.2)\n",
      "Requirement already satisfied: pytz>=2020.1 in c:\\users\\setditjenpptr\\miniconda3\\envs\\geo\\lib\\site-packages (from pandas->leafmap) (2023.3)\n",
      "Requirement already satisfied: tzdata>=2022.1 in c:\\users\\setditjenpptr\\miniconda3\\envs\\geo\\lib\\site-packages (from pandas->leafmap) (2023.3)\n",
      "Requirement already satisfied: charset-normalizer<4,>=2 in c:\\users\\setditjenpptr\\miniconda3\\envs\\geo\\lib\\site-packages (from requests>=2.25->osmnx) (3.1.0)\n",
      "Requirement already satisfied: idna<4,>=2.5 in c:\\users\\setditjenpptr\\miniconda3\\envs\\geo\\lib\\site-packages (from requests>=2.25->osmnx) (3.4)\n",
      "Requirement already satisfied: urllib3<3,>=1.21.1 in c:\\users\\setditjenpptr\\miniconda3\\envs\\geo\\lib\\site-packages (from requests>=2.25->osmnx) (2.0.2)\n",
      "Requirement already satisfied: ipytree in c:\\users\\setditjenpptr\\miniconda3\\envs\\geo\\lib\\site-packages (from whiteboxgui>=0.6.0->leafmap) (0.2.2)\n",
      "Requirement already satisfied: whitebox in c:\\users\\setditjenpptr\\miniconda3\\envs\\geo\\lib\\site-packages (from whiteboxgui>=0.6.0->leafmap) (2.3.1)\n",
      "Requirement already satisfied: filelock in c:\\users\\setditjenpptr\\miniconda3\\envs\\geo\\lib\\site-packages (from gdown->leafmap) (3.12.0)\n",
      "Requirement already satisfied: tqdm in c:\\users\\setditjenpptr\\miniconda3\\envs\\geo\\lib\\site-packages (from gdown->leafmap) (4.65.0)\n",
      "Requirement already satisfied: beautifulsoup4 in c:\\users\\setditjenpptr\\miniconda3\\envs\\geo\\lib\\site-packages (from gdown->leafmap) (4.12.2)\n",
      "Requirement already satisfied: contourpy>=1.0.1 in c:\\users\\setditjenpptr\\miniconda3\\envs\\geo\\lib\\site-packages (from matplotlib->leafmap) (1.0.7)\n",
      "Requirement already satisfied: cycler>=0.10 in c:\\users\\setditjenpptr\\miniconda3\\envs\\geo\\lib\\site-packages (from matplotlib->leafmap) (0.11.0)\n",
      "Requirement already satisfied: fonttools>=4.22.0 in c:\\users\\setditjenpptr\\miniconda3\\envs\\geo\\lib\\site-packages (from matplotlib->leafmap) (4.39.4)\n",
      "Requirement already satisfied: kiwisolver>=1.0.1 in c:\\users\\setditjenpptr\\miniconda3\\envs\\geo\\lib\\site-packages (from matplotlib->leafmap) (1.4.4)\n",
      "Requirement already satisfied: pillow>=6.2.0 in c:\\users\\setditjenpptr\\miniconda3\\envs\\geo\\lib\\site-packages (from matplotlib->leafmap) (9.5.0)\n",
      "Requirement already satisfied: pyparsing>=2.3.1 in c:\\users\\setditjenpptr\\miniconda3\\envs\\geo\\lib\\site-packages (from matplotlib->leafmap) (3.0.9)\n",
      "Requirement already satisfied: importlib-resources>=3.2.0 in c:\\users\\setditjenpptr\\miniconda3\\envs\\geo\\lib\\site-packages (from matplotlib->leafmap) (5.12.0)\n",
      "Requirement already satisfied: pystac>=1.7.0 in c:\\users\\setditjenpptr\\miniconda3\\envs\\geo\\lib\\site-packages (from pystac-client->leafmap) (1.7.3)\n",
      "Requirement already satisfied: colorama in c:\\users\\setditjenpptr\\miniconda3\\envs\\geo\\lib\\site-packages (from click~=8.0->fiona>=1.8.19->geopandas) (0.4.6)\n",
      "Requirement already satisfied: zipp>=3.1.0 in c:\\users\\setditjenpptr\\miniconda3\\envs\\geo\\lib\\site-packages (from importlib-resources>=3.2.0->matplotlib->leafmap) (3.15.0)\n",
      "Requirement already satisfied: comm>=0.1.1 in c:\\users\\setditjenpptr\\miniconda3\\envs\\geo\\lib\\site-packages (from ipykernel>=4.5.1->ipywidgets<8.0.0->leafmap) (0.1.3)\n",
      "Requirement already satisfied: debugpy>=1.6.5 in c:\\users\\setditjenpptr\\miniconda3\\envs\\geo\\lib\\site-packages (from ipykernel>=4.5.1->ipywidgets<8.0.0->leafmap) (1.6.7)\n",
      "Requirement already satisfied: jupyter-client>=6.1.12 in c:\\users\\setditjenpptr\\miniconda3\\envs\\geo\\lib\\site-packages (from ipykernel>=4.5.1->ipywidgets<8.0.0->leafmap) (8.2.0)\n",
      "Requirement already satisfied: jupyter-core!=5.0.*,>=4.12 in c:\\users\\setditjenpptr\\miniconda3\\envs\\geo\\lib\\site-packages (from ipykernel>=4.5.1->ipywidgets<8.0.0->leafmap) (5.3.0)\n",
      "Requirement already satisfied: matplotlib-inline>=0.1 in c:\\users\\setditjenpptr\\miniconda3\\envs\\geo\\lib\\site-packages (from ipykernel>=4.5.1->ipywidgets<8.0.0->leafmap) (0.1.6)\n",
      "Requirement already satisfied: nest-asyncio in c:\\users\\setditjenpptr\\miniconda3\\envs\\geo\\lib\\site-packages (from ipykernel>=4.5.1->ipywidgets<8.0.0->leafmap) (1.5.6)\n",
      "Requirement already satisfied: psutil in c:\\users\\setditjenpptr\\miniconda3\\envs\\geo\\lib\\site-packages (from ipykernel>=4.5.1->ipywidgets<8.0.0->leafmap) (5.9.5)\n",
      "Requirement already satisfied: pyzmq>=20 in c:\\users\\setditjenpptr\\miniconda3\\envs\\geo\\lib\\site-packages (from ipykernel>=4.5.1->ipywidgets<8.0.0->leafmap) (25.0.2)\n",
      "Requirement already satisfied: tornado>=6.1 in c:\\users\\setditjenpptr\\miniconda3\\envs\\geo\\lib\\site-packages (from ipykernel>=4.5.1->ipywidgets<8.0.0->leafmap) (6.3.2)\n",
      "Requirement already satisfied: backcall in c:\\users\\setditjenpptr\\miniconda3\\envs\\geo\\lib\\site-packages (from ipython>=4.0.0->ipywidgets<8.0.0->leafmap) (0.2.0)\n",
      "Requirement already satisfied: decorator in c:\\users\\setditjenpptr\\miniconda3\\envs\\geo\\lib\\site-packages (from ipython>=4.0.0->ipywidgets<8.0.0->leafmap) (5.1.1)\n",
      "Requirement already satisfied: jedi>=0.16 in c:\\users\\setditjenpptr\\miniconda3\\envs\\geo\\lib\\site-packages (from ipython>=4.0.0->ipywidgets<8.0.0->leafmap) (0.18.2)\n",
      "Requirement already satisfied: pickleshare in c:\\users\\setditjenpptr\\miniconda3\\envs\\geo\\lib\\site-packages (from ipython>=4.0.0->ipywidgets<8.0.0->leafmap) (0.7.5)\n",
      "Requirement already satisfied: prompt-toolkit!=3.0.37,<3.1.0,>=3.0.30 in c:\\users\\setditjenpptr\\miniconda3\\envs\\geo\\lib\\site-packages (from ipython>=4.0.0->ipywidgets<8.0.0->leafmap) (3.0.38)\n",
      "Requirement already satisfied: pygments>=2.4.0 in c:\\users\\setditjenpptr\\miniconda3\\envs\\geo\\lib\\site-packages (from ipython>=4.0.0->ipywidgets<8.0.0->leafmap) (2.15.1)\n",
      "Requirement already satisfied: stack-data in c:\\users\\setditjenpptr\\miniconda3\\envs\\geo\\lib\\site-packages (from ipython>=4.0.0->ipywidgets<8.0.0->leafmap) (0.6.2)\n",
      "Requirement already satisfied: typing-extensions in c:\\users\\setditjenpptr\\miniconda3\\envs\\geo\\lib\\site-packages (from ipython>=4.0.0->ipywidgets<8.0.0->leafmap) (4.6.1)\n",
      "Requirement already satisfied: MarkupSafe>=2.0 in c:\\users\\setditjenpptr\\miniconda3\\envs\\geo\\lib\\site-packages (from jinja2>=2.9->folium<=0.13.0,>=0.11.0->leafmap) (2.1.2)\n",
      "Requirement already satisfied: notebook>=4.4.1 in c:\\users\\setditjenpptr\\miniconda3\\envs\\geo\\lib\\site-packages (from widgetsnbextension~=3.6.4->ipywidgets<8.0.0->leafmap) (6.5.4)\n",
      "Requirement already satisfied: soupsieve>1.2 in c:\\users\\setditjenpptr\\miniconda3\\envs\\geo\\lib\\site-packages (from beautifulsoup4->gdown->leafmap) (2.3.2.post1)\n",
      "Requirement already satisfied: PySocks!=1.5.7,>=1.5.6 in c:\\users\\setditjenpptr\\miniconda3\\envs\\geo\\lib\\site-packages (from requests>=2.25->osmnx) (1.7.1)\n",
      "Requirement already satisfied: parso<0.9.0,>=0.8.0 in c:\\users\\setditjenpptr\\miniconda3\\envs\\geo\\lib\\site-packages (from jedi>=0.16->ipython>=4.0.0->ipywidgets<8.0.0->leafmap) (0.8.3)\n",
      "Requirement already satisfied: platformdirs>=2.5 in c:\\users\\setditjenpptr\\miniconda3\\envs\\geo\\lib\\site-packages (from jupyter-core!=5.0.*,>=4.12->ipykernel>=4.5.1->ipywidgets<8.0.0->leafmap) (3.5.1)\n",
      "Requirement already satisfied: pywin32>=300 in c:\\users\\setditjenpptr\\miniconda3\\envs\\geo\\lib\\site-packages (from jupyter-core!=5.0.*,>=4.12->ipykernel>=4.5.1->ipywidgets<8.0.0->leafmap) (304)\n",
      "Requirement already satisfied: argon2-cffi in c:\\users\\setditjenpptr\\miniconda3\\envs\\geo\\lib\\site-packages (from notebook>=4.4.1->widgetsnbextension~=3.6.4->ipywidgets<8.0.0->leafmap) (21.3.0)\n",
      "Requirement already satisfied: nbformat in c:\\users\\setditjenpptr\\miniconda3\\envs\\geo\\lib\\site-packages (from notebook>=4.4.1->widgetsnbextension~=3.6.4->ipywidgets<8.0.0->leafmap) (5.8.0)\n",
      "Requirement already satisfied: nbconvert>=5 in c:\\users\\setditjenpptr\\miniconda3\\envs\\geo\\lib\\site-packages (from notebook>=4.4.1->widgetsnbextension~=3.6.4->ipywidgets<8.0.0->leafmap) (7.4.0)\n",
      "Requirement already satisfied: Send2Trash>=1.8.0 in c:\\users\\setditjenpptr\\miniconda3\\envs\\geo\\lib\\site-packages (from notebook>=4.4.1->widgetsnbextension~=3.6.4->ipywidgets<8.0.0->leafmap) (1.8.2)\n",
      "Requirement already satisfied: terminado>=0.8.3 in c:\\users\\setditjenpptr\\miniconda3\\envs\\geo\\lib\\site-packages (from notebook>=4.4.1->widgetsnbextension~=3.6.4->ipywidgets<8.0.0->leafmap) (0.17.0)\n",
      "Requirement already satisfied: prometheus-client in c:\\users\\setditjenpptr\\miniconda3\\envs\\geo\\lib\\site-packages (from notebook>=4.4.1->widgetsnbextension~=3.6.4->ipywidgets<8.0.0->leafmap) (0.17.0)\n",
      "Requirement already satisfied: nbclassic>=0.4.7 in c:\\users\\setditjenpptr\\miniconda3\\envs\\geo\\lib\\site-packages (from notebook>=4.4.1->widgetsnbextension~=3.6.4->ipywidgets<8.0.0->leafmap) (1.0.0)\n",
      "Requirement already satisfied: wcwidth in c:\\users\\setditjenpptr\\miniconda3\\envs\\geo\\lib\\site-packages (from prompt-toolkit!=3.0.37,<3.1.0,>=3.0.30->ipython>=4.0.0->ipywidgets<8.0.0->leafmap) (0.2.6)\n",
      "Requirement already satisfied: executing>=1.2.0 in c:\\users\\setditjenpptr\\miniconda3\\envs\\geo\\lib\\site-packages (from stack-data->ipython>=4.0.0->ipywidgets<8.0.0->leafmap) (1.2.0)\n",
      "Requirement already satisfied: asttokens>=2.1.0 in c:\\users\\setditjenpptr\\miniconda3\\envs\\geo\\lib\\site-packages (from stack-data->ipython>=4.0.0->ipywidgets<8.0.0->leafmap) (2.2.1)\n",
      "Requirement already satisfied: pure-eval in c:\\users\\setditjenpptr\\miniconda3\\envs\\geo\\lib\\site-packages (from stack-data->ipython>=4.0.0->ipywidgets<8.0.0->leafmap) (0.2.2)\n",
      "Requirement already satisfied: jupyter-server>=1.8 in c:\\users\\setditjenpptr\\miniconda3\\envs\\geo\\lib\\site-packages (from nbclassic>=0.4.7->notebook>=4.4.1->widgetsnbextension~=3.6.4->ipywidgets<8.0.0->leafmap) (2.5.0)\n",
      "Requirement already satisfied: notebook-shim>=0.2.3 in c:\\users\\setditjenpptr\\miniconda3\\envs\\geo\\lib\\site-packages (from nbclassic>=0.4.7->notebook>=4.4.1->widgetsnbextension~=3.6.4->ipywidgets<8.0.0->leafmap) (0.2.3)\n",
      "Requirement already satisfied: bleach in c:\\users\\setditjenpptr\\miniconda3\\envs\\geo\\lib\\site-packages (from nbconvert>=5->notebook>=4.4.1->widgetsnbextension~=3.6.4->ipywidgets<8.0.0->leafmap) (6.0.0)\n",
      "Requirement already satisfied: defusedxml in c:\\users\\setditjenpptr\\miniconda3\\envs\\geo\\lib\\site-packages (from nbconvert>=5->notebook>=4.4.1->widgetsnbextension~=3.6.4->ipywidgets<8.0.0->leafmap) (0.7.1)\n",
      "Requirement already satisfied: jupyterlab-pygments in c:\\users\\setditjenpptr\\miniconda3\\envs\\geo\\lib\\site-packages (from nbconvert>=5->notebook>=4.4.1->widgetsnbextension~=3.6.4->ipywidgets<8.0.0->leafmap) (0.2.2)\n",
      "Requirement already satisfied: mistune<3,>=2.0.3 in c:\\users\\setditjenpptr\\miniconda3\\envs\\geo\\lib\\site-packages (from nbconvert>=5->notebook>=4.4.1->widgetsnbextension~=3.6.4->ipywidgets<8.0.0->leafmap) (2.0.5)\n",
      "Requirement already satisfied: nbclient>=0.5.0 in c:\\users\\setditjenpptr\\miniconda3\\envs\\geo\\lib\\site-packages (from nbconvert>=5->notebook>=4.4.1->widgetsnbextension~=3.6.4->ipywidgets<8.0.0->leafmap) (0.8.0)\n",
      "Requirement already satisfied: pandocfilters>=1.4.1 in c:\\users\\setditjenpptr\\miniconda3\\envs\\geo\\lib\\site-packages (from nbconvert>=5->notebook>=4.4.1->widgetsnbextension~=3.6.4->ipywidgets<8.0.0->leafmap) (1.5.0)\n",
      "Requirement already satisfied: tinycss2 in c:\\users\\setditjenpptr\\miniconda3\\envs\\geo\\lib\\site-packages (from nbconvert>=5->notebook>=4.4.1->widgetsnbextension~=3.6.4->ipywidgets<8.0.0->leafmap) (1.2.1)\n",
      "Requirement already satisfied: fastjsonschema in c:\\users\\setditjenpptr\\miniconda3\\envs\\geo\\lib\\site-packages (from nbformat->notebook>=4.4.1->widgetsnbextension~=3.6.4->ipywidgets<8.0.0->leafmap) (2.17.1)\n",
      "Requirement already satisfied: jsonschema>=2.6 in c:\\users\\setditjenpptr\\miniconda3\\envs\\geo\\lib\\site-packages (from nbformat->notebook>=4.4.1->widgetsnbextension~=3.6.4->ipywidgets<8.0.0->leafmap) (4.17.3)\n",
      "Requirement already satisfied: pywinpty>=1.1.0 in c:\\users\\setditjenpptr\\miniconda3\\envs\\geo\\lib\\site-packages (from terminado>=0.8.3->notebook>=4.4.1->widgetsnbextension~=3.6.4->ipywidgets<8.0.0->leafmap) (2.0.10)\n",
      "Requirement already satisfied: argon2-cffi-bindings in c:\\users\\setditjenpptr\\miniconda3\\envs\\geo\\lib\\site-packages (from argon2-cffi->notebook>=4.4.1->widgetsnbextension~=3.6.4->ipywidgets<8.0.0->leafmap) (21.2.0)\n",
      "Requirement already satisfied: pyrsistent!=0.17.0,!=0.17.1,!=0.17.2,>=0.14.0 in c:\\users\\setditjenpptr\\miniconda3\\envs\\geo\\lib\\site-packages (from jsonschema>=2.6->nbformat->notebook>=4.4.1->widgetsnbextension~=3.6.4->ipywidgets<8.0.0->leafmap) (0.19.3)\n",
      "Requirement already satisfied: anyio>=3.1.0 in c:\\users\\setditjenpptr\\miniconda3\\envs\\geo\\lib\\site-packages (from jupyter-server>=1.8->nbclassic>=0.4.7->notebook>=4.4.1->widgetsnbextension~=3.6.4->ipywidgets<8.0.0->leafmap) (3.6.2)\n",
      "Requirement already satisfied: jupyter-events>=0.4.0 in c:\\users\\setditjenpptr\\miniconda3\\envs\\geo\\lib\\site-packages (from jupyter-server>=1.8->nbclassic>=0.4.7->notebook>=4.4.1->widgetsnbextension~=3.6.4->ipywidgets<8.0.0->leafmap) (0.6.3)\n",
      "Requirement already satisfied: jupyter-server-terminals in c:\\users\\setditjenpptr\\miniconda3\\envs\\geo\\lib\\site-packages (from jupyter-server>=1.8->nbclassic>=0.4.7->notebook>=4.4.1->widgetsnbextension~=3.6.4->ipywidgets<8.0.0->leafmap) (0.4.4)\n",
      "Requirement already satisfied: websocket-client in c:\\users\\setditjenpptr\\miniconda3\\envs\\geo\\lib\\site-packages (from jupyter-server>=1.8->nbclassic>=0.4.7->notebook>=4.4.1->widgetsnbextension~=3.6.4->ipywidgets<8.0.0->leafmap) (1.5.2)\n",
      "Requirement already satisfied: cffi>=1.0.1 in c:\\users\\setditjenpptr\\miniconda3\\envs\\geo\\lib\\site-packages (from argon2-cffi-bindings->argon2-cffi->notebook>=4.4.1->widgetsnbextension~=3.6.4->ipywidgets<8.0.0->leafmap) (1.15.1)\n",
      "Requirement already satisfied: webencodings in c:\\users\\setditjenpptr\\miniconda3\\envs\\geo\\lib\\site-packages (from bleach->nbconvert>=5->notebook>=4.4.1->widgetsnbextension~=3.6.4->ipywidgets<8.0.0->leafmap) (0.5.1)\n",
      "Requirement already satisfied: sniffio>=1.1 in c:\\users\\setditjenpptr\\miniconda3\\envs\\geo\\lib\\site-packages (from anyio>=3.1.0->jupyter-server>=1.8->nbclassic>=0.4.7->notebook>=4.4.1->widgetsnbextension~=3.6.4->ipywidgets<8.0.0->leafmap) (1.3.0)\n",
      "Requirement already satisfied: pycparser in c:\\users\\setditjenpptr\\miniconda3\\envs\\geo\\lib\\site-packages (from cffi>=1.0.1->argon2-cffi-bindings->argon2-cffi->notebook>=4.4.1->widgetsnbextension~=3.6.4->ipywidgets<8.0.0->leafmap) (2.21)\n",
      "Requirement already satisfied: python-json-logger>=2.0.4 in c:\\users\\setditjenpptr\\miniconda3\\envs\\geo\\lib\\site-packages (from jupyter-events>=0.4.0->jupyter-server>=1.8->nbclassic>=0.4.7->notebook>=4.4.1->widgetsnbextension~=3.6.4->ipywidgets<8.0.0->leafmap) (2.0.7)\n",
      "Requirement already satisfied: pyyaml>=5.3 in c:\\users\\setditjenpptr\\miniconda3\\envs\\geo\\lib\\site-packages (from jupyter-events>=0.4.0->jupyter-server>=1.8->nbclassic>=0.4.7->notebook>=4.4.1->widgetsnbextension~=3.6.4->ipywidgets<8.0.0->leafmap) (6.0)\n",
      "Requirement already satisfied: rfc3339-validator in c:\\users\\setditjenpptr\\miniconda3\\envs\\geo\\lib\\site-packages (from jupyter-events>=0.4.0->jupyter-server>=1.8->nbclassic>=0.4.7->notebook>=4.4.1->widgetsnbextension~=3.6.4->ipywidgets<8.0.0->leafmap) (0.1.4)\n",
      "Requirement already satisfied: rfc3986-validator>=0.1.1 in c:\\users\\setditjenpptr\\miniconda3\\envs\\geo\\lib\\site-packages (from jupyter-events>=0.4.0->jupyter-server>=1.8->nbclassic>=0.4.7->notebook>=4.4.1->widgetsnbextension~=3.6.4->ipywidgets<8.0.0->leafmap) (0.1.1)\n",
      "Requirement already satisfied: fqdn in c:\\users\\setditjenpptr\\miniconda3\\envs\\geo\\lib\\site-packages (from jsonschema>=2.6->nbformat->notebook>=4.4.1->widgetsnbextension~=3.6.4->ipywidgets<8.0.0->leafmap) (1.5.1)\n",
      "Requirement already satisfied: isoduration in c:\\users\\setditjenpptr\\miniconda3\\envs\\geo\\lib\\site-packages (from jsonschema>=2.6->nbformat->notebook>=4.4.1->widgetsnbextension~=3.6.4->ipywidgets<8.0.0->leafmap) (20.11.0)\n",
      "Requirement already satisfied: jsonpointer>1.13 in c:\\users\\setditjenpptr\\miniconda3\\envs\\geo\\lib\\site-packages (from jsonschema>=2.6->nbformat->notebook>=4.4.1->widgetsnbextension~=3.6.4->ipywidgets<8.0.0->leafmap) (2.3)\n",
      "Requirement already satisfied: uri-template in c:\\users\\setditjenpptr\\miniconda3\\envs\\geo\\lib\\site-packages (from jsonschema>=2.6->nbformat->notebook>=4.4.1->widgetsnbextension~=3.6.4->ipywidgets<8.0.0->leafmap) (1.2.0)\n",
      "Requirement already satisfied: webcolors>=1.11 in c:\\users\\setditjenpptr\\miniconda3\\envs\\geo\\lib\\site-packages (from jsonschema>=2.6->nbformat->notebook>=4.4.1->widgetsnbextension~=3.6.4->ipywidgets<8.0.0->leafmap) (1.13)\n",
      "Requirement already satisfied: arrow>=0.15.0 in c:\\users\\setditjenpptr\\miniconda3\\envs\\geo\\lib\\site-packages (from isoduration->jsonschema>=2.6->nbformat->notebook>=4.4.1->widgetsnbextension~=3.6.4->ipywidgets<8.0.0->leafmap) (1.2.3)\n"
     ]
    }
   ],
   "source": [
    "!pip install leafmap geopandas pycrs osmnx"
   ]
  },
  {
   "cell_type": "code",
   "execution_count": 2,
   "metadata": {},
   "outputs": [],
   "source": [
    "import os\n",
    "import leafmap"
   ]
  },
  {
   "cell_type": "code",
   "execution_count": 3,
   "metadata": {},
   "outputs": [
    {
     "data": {
      "application/vnd.jupyter.widget-view+json": {
       "model_id": "8f809530b0c44f46957227ed3f718ac4",
       "version_major": 2,
       "version_minor": 0
      },
      "text/plain": [
       "Map(center=[-0.47855795607524837, 100.34645777487707], controls=(ZoomControl(options=['position', 'zoom_in_tex…"
      ]
     },
     "metadata": {},
     "output_type": "display_data"
    }
   ],
   "source": [
    "m = leafmap.Map(center=(-0.47855795607524837, 100.34645777487707), zoom=12)\n",
    "m"
   ]
  },
  {
   "cell_type": "code",
   "execution_count": 4,
   "metadata": {},
   "outputs": [
    {
     "name": "stderr",
     "output_type": "stream",
     "text": [
      "Downloading...\n",
      "From: https://raw.githubusercontent.com/fiopiohoho/SUSU-MORNING/main/shapefile/DataSHMKantah.zip\n",
      "To: D:\\2023\\Coffe Morning\\SUSU-MORNING\\Examples\\cache\\shp\\DataSHMKantah.zip\n",
      "100%|███████████████████████████████████████████████████████████████████████████████| 14.0/14.0 [00:00<00:00, 14.0kB/s]\n"
     ]
    },
    {
     "ename": "BadZipFile",
     "evalue": "File is not a zip file",
     "output_type": "error",
     "traceback": [
      "\u001b[1;31m---------------------------------------------------------------------------\u001b[0m",
      "\u001b[1;31mBadZipFile\u001b[0m                                Traceback (most recent call last)",
      "Cell \u001b[1;32mIn[4], line 3\u001b[0m\n\u001b[0;32m      1\u001b[0m m \u001b[38;5;241m=\u001b[39m leafmap\u001b[38;5;241m.\u001b[39mMap(center\u001b[38;5;241m=\u001b[39m(\u001b[38;5;241m-\u001b[39m\u001b[38;5;241m0.47855795607524837\u001b[39m, \u001b[38;5;241m100.34645777487707\u001b[39m), zoom\u001b[38;5;241m=\u001b[39m\u001b[38;5;241m12\u001b[39m)\n\u001b[0;32m      2\u001b[0m in_shp \u001b[38;5;241m=\u001b[39m \u001b[38;5;124m'\u001b[39m\u001b[38;5;124mhttps://github.com/fiopiohoho/SUSU-MORNING/blob/main/shapefile/DataSHMKantah.zip\u001b[39m\u001b[38;5;124m'\u001b[39m\n\u001b[1;32m----> 3\u001b[0m \u001b[43mm\u001b[49m\u001b[38;5;241;43m.\u001b[39;49m\u001b[43madd_shp\u001b[49m\u001b[43m(\u001b[49m\u001b[43min_shp\u001b[49m\u001b[43m,\u001b[49m\u001b[43m \u001b[49m\u001b[43mlayer_name\u001b[49m\u001b[38;5;241;43m=\u001b[39;49m\u001b[38;5;124;43m\"\u001b[39;49m\u001b[38;5;124;43mHAT\u001b[39;49m\u001b[38;5;124;43m\"\u001b[39;49m\u001b[43m)\u001b[49m\n\u001b[0;32m      4\u001b[0m m\n",
      "File \u001b[1;32m~\\miniconda3\\envs\\geo\\lib\\site-packages\\leafmap\\leafmap.py:2166\u001b[0m, in \u001b[0;36mMap.add_shp\u001b[1;34m(self, in_shp, layer_name, style, hover_style, style_callback, fill_colors, info_mode, encoding)\u001b[0m\n\u001b[0;32m   2164\u001b[0m filename \u001b[38;5;241m=\u001b[39m os\u001b[38;5;241m.\u001b[39mpath\u001b[38;5;241m.\u001b[39mjoin(out_dir, basename)\n\u001b[0;32m   2165\u001b[0m \u001b[38;5;66;03m# download_from_url(in_shp, out_dir=out_dir, verbose=False)\u001b[39;00m\n\u001b[1;32m-> 2166\u001b[0m \u001b[43mdownload_file\u001b[49m\u001b[43m(\u001b[49m\u001b[43min_shp\u001b[49m\u001b[43m,\u001b[49m\u001b[43m \u001b[49m\u001b[43mfilename\u001b[49m\u001b[43m)\u001b[49m\n\u001b[0;32m   2167\u001b[0m files \u001b[38;5;241m=\u001b[39m \u001b[38;5;28mlist\u001b[39m(glob\u001b[38;5;241m.\u001b[39mglob(os\u001b[38;5;241m.\u001b[39mpath\u001b[38;5;241m.\u001b[39mjoin(out_dir, \u001b[38;5;124m\"\u001b[39m\u001b[38;5;124m*.shp\u001b[39m\u001b[38;5;124m\"\u001b[39m)))\n\u001b[0;32m   2168\u001b[0m \u001b[38;5;28;01mif\u001b[39;00m \u001b[38;5;28mlen\u001b[39m(files) \u001b[38;5;241m>\u001b[39m \u001b[38;5;241m0\u001b[39m:\n",
      "File \u001b[1;32m~\\miniconda3\\envs\\geo\\lib\\site-packages\\leafmap\\common.py:4404\u001b[0m, in \u001b[0;36mdownload_file\u001b[1;34m(url, output, quiet, proxy, speed, use_cookies, verify, id, fuzzy, resume, unzip, overwrite, subfolder)\u001b[0m\n\u001b[0;32m   4399\u001b[0m output \u001b[38;5;241m=\u001b[39m gdown\u001b[38;5;241m.\u001b[39mdownload(\n\u001b[0;32m   4400\u001b[0m     url, output, quiet, proxy, speed, use_cookies, verify, \u001b[38;5;28mid\u001b[39m, fuzzy, resume\n\u001b[0;32m   4401\u001b[0m )\n\u001b[0;32m   4403\u001b[0m \u001b[38;5;28;01mif\u001b[39;00m unzip \u001b[38;5;129;01mand\u001b[39;00m output\u001b[38;5;241m.\u001b[39mendswith(\u001b[38;5;124m\"\u001b[39m\u001b[38;5;124m.zip\u001b[39m\u001b[38;5;124m\"\u001b[39m):\n\u001b[1;32m-> 4404\u001b[0m     \u001b[38;5;28;01mwith\u001b[39;00m \u001b[43mzipfile\u001b[49m\u001b[38;5;241;43m.\u001b[39;49m\u001b[43mZipFile\u001b[49m\u001b[43m(\u001b[49m\u001b[43moutput\u001b[49m\u001b[43m,\u001b[49m\u001b[43m \u001b[49m\u001b[38;5;124;43m\"\u001b[39;49m\u001b[38;5;124;43mr\u001b[39;49m\u001b[38;5;124;43m\"\u001b[39;49m\u001b[43m)\u001b[49m \u001b[38;5;28;01mas\u001b[39;00m zip_ref:\n\u001b[0;32m   4405\u001b[0m         \u001b[38;5;28;01mif\u001b[39;00m \u001b[38;5;129;01mnot\u001b[39;00m quiet:\n\u001b[0;32m   4406\u001b[0m             \u001b[38;5;28mprint\u001b[39m(\u001b[38;5;124m\"\u001b[39m\u001b[38;5;124mExtracting files...\u001b[39m\u001b[38;5;124m\"\u001b[39m)\n",
      "File \u001b[1;32m~\\miniconda3\\envs\\geo\\lib\\zipfile.py:1266\u001b[0m, in \u001b[0;36mZipFile.__init__\u001b[1;34m(self, file, mode, compression, allowZip64, compresslevel, strict_timestamps)\u001b[0m\n\u001b[0;32m   1264\u001b[0m \u001b[38;5;28;01mtry\u001b[39;00m:\n\u001b[0;32m   1265\u001b[0m     \u001b[38;5;28;01mif\u001b[39;00m mode \u001b[38;5;241m==\u001b[39m \u001b[38;5;124m'\u001b[39m\u001b[38;5;124mr\u001b[39m\u001b[38;5;124m'\u001b[39m:\n\u001b[1;32m-> 1266\u001b[0m         \u001b[38;5;28;43mself\u001b[39;49m\u001b[38;5;241;43m.\u001b[39;49m\u001b[43m_RealGetContents\u001b[49m\u001b[43m(\u001b[49m\u001b[43m)\u001b[49m\n\u001b[0;32m   1267\u001b[0m     \u001b[38;5;28;01melif\u001b[39;00m mode \u001b[38;5;129;01min\u001b[39;00m (\u001b[38;5;124m'\u001b[39m\u001b[38;5;124mw\u001b[39m\u001b[38;5;124m'\u001b[39m, \u001b[38;5;124m'\u001b[39m\u001b[38;5;124mx\u001b[39m\u001b[38;5;124m'\u001b[39m):\n\u001b[0;32m   1268\u001b[0m         \u001b[38;5;66;03m# set the modified flag so central directory gets written\u001b[39;00m\n\u001b[0;32m   1269\u001b[0m         \u001b[38;5;66;03m# even if no files are added to the archive\u001b[39;00m\n\u001b[0;32m   1270\u001b[0m         \u001b[38;5;28mself\u001b[39m\u001b[38;5;241m.\u001b[39m_didModify \u001b[38;5;241m=\u001b[39m \u001b[38;5;28;01mTrue\u001b[39;00m\n",
      "File \u001b[1;32m~\\miniconda3\\envs\\geo\\lib\\zipfile.py:1333\u001b[0m, in \u001b[0;36mZipFile._RealGetContents\u001b[1;34m(self)\u001b[0m\n\u001b[0;32m   1331\u001b[0m     \u001b[38;5;28;01mraise\u001b[39;00m BadZipFile(\u001b[38;5;124m\"\u001b[39m\u001b[38;5;124mFile is not a zip file\u001b[39m\u001b[38;5;124m\"\u001b[39m)\n\u001b[0;32m   1332\u001b[0m \u001b[38;5;28;01mif\u001b[39;00m \u001b[38;5;129;01mnot\u001b[39;00m endrec:\n\u001b[1;32m-> 1333\u001b[0m     \u001b[38;5;28;01mraise\u001b[39;00m BadZipFile(\u001b[38;5;124m\"\u001b[39m\u001b[38;5;124mFile is not a zip file\u001b[39m\u001b[38;5;124m\"\u001b[39m)\n\u001b[0;32m   1334\u001b[0m \u001b[38;5;28;01mif\u001b[39;00m \u001b[38;5;28mself\u001b[39m\u001b[38;5;241m.\u001b[39mdebug \u001b[38;5;241m>\u001b[39m \u001b[38;5;241m1\u001b[39m:\n\u001b[0;32m   1335\u001b[0m     \u001b[38;5;28mprint\u001b[39m(endrec)\n",
      "\u001b[1;31mBadZipFile\u001b[0m: File is not a zip file"
     ]
    }
   ],
   "source": [
    "m = leafmap.Map(center=(-0.47855795607524837, 100.34645777487707), zoom=12)\n",
    "in_shp = 'https://github.com/fiopiohoho/SUSU-MORNING/blob/main/shapefile/DataSHMKantah.zip'\n",
    "m.add_shp(in_shp, layer_name=\"HAT\")\n",
    "m"
   ]
  },
  {
   "attachments": {},
   "cell_type": "markdown",
   "metadata": {},
   "source": []
  }
 ],
 "metadata": {
  "kernelspec": {
   "display_name": "Python 3 (ipykernel)",
   "language": "python",
   "name": "python3"
  },
  "language_info": {
   "codemirror_mode": {
    "name": "ipython",
    "version": 3
   },
   "file_extension": ".py",
   "mimetype": "text/x-python",
   "name": "python",
   "nbconvert_exporter": "python",
   "pygments_lexer": "ipython3",
   "version": "3.9.16"
  }
 },
 "nbformat": 4,
 "nbformat_minor": 4
}
